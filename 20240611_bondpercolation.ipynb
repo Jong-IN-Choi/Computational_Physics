{
 "cells": [
  {
   "cell_type": "markdown",
   "metadata": {},
   "source": [
    "# Bond-percolation \n",
    "\n",
    "본드 퍼콜레이션은 격자나 그래프에서 임의로 일부 본드를 제거하여, 남은 본드들로 연결된 클러스터가 형성되는 확률적 모델링 기법\n",
    "주어진 확률 p로 각 본드를 제거하거나 유지할지를 결정한다.\n",
    "\n",
    "## 과정 : \n",
    "    1. 본드 설정: 격자의 각 점 (i, j)에 대해 인접한 오른쪽, 왼쪽, 위, 아래 방향에 대해 본드를 설정합니다.\n",
    "    2. 본드 섞기: 설정된 본드들을 무작위로 섞습니다.\n",
    "    3. 유니온-파인드를 사용한 클러스터 찾기: 각 본드를 순서대로 살펴보며, 두 점이 같은 클러스터에 속하는지 판별합니다. 이를 위해 유니온-파인드 자료구조를 사용합니다.\n",
    "    4. 클러스터 크기 기록: 각 본드가 추가될 때마다 현재까지 발견된 가장 큰 클러스터의 크기를 기록하고, 이를 시각화하여 변화를 관찰할 수 있습니다.\n",
    "\n",
    "## 함수:\n",
    "\n",
    "- find(i):\n",
    "   - 이 함수는 재귀적으로 요소 `i`가 속한 집합의 루트 대표를 찾는다. 경로 압축(Path Compression)을 사용하여 나중의 쿼리를 최적화한다. `ptr[i]`가 음수일 경우 (`ptr[i] < 0`), `i` 자체가 루트임을 나타내며, `i`를 반환한다. 그게 아니면 `i`의 루트를 재귀적으로 찾아 업데이트한 후 해당 루트를 반환한다.\n",
    "\n",
    "- union(r1, r2, big):\n",
    "   - 이 함수는 두 개의 루트 `r1`과 `r2`를 가진 집합을 합병한다. `ptr` 배열에서 작은 집합을 큰 집합에 병합하여 효율성을 유지한다. `ptr`를 적절히 업데이트하고 가장 큰 집합 크기를 유지하는데, 이 값은 `big_list`에 `big / N`의 정규화된 값으로 추가된다. 함수는 업데이트된 루트 `r1`, `r2` 및 현재 `big` 값을 반환한다.\n",
    "    \n",
    "- bond(i,j) :\n",
    "   - 이 함수는 격자 상의 점들 간의 본드를 설정하는 역할을 한다. 본드 퍼콜레이션 시뮬레이션에서 각 점 (i, j)에 대해 오른쪽, 왼쪽, 위, 아래 방향의 본드를 설정하여 리스트 bonds에 저장한다."
   ]
  },
  {
   "cell_type": "code",
   "execution_count": 1,
   "metadata": {
    "id": "jxM69TNU-oSn"
   },
   "outputs": [],
   "source": [
    "import numpy as np\n",
    "import matplotlib.pyplot as plt"
   ]
  },
  {
   "cell_type": "code",
   "execution_count": 2,
   "metadata": {
    "id": "ZUKyztej88Nq"
   },
   "outputs": [],
   "source": [
    "def find(i):\n",
    "    if ptr[i]<0:\n",
    "        return i\n",
    "    else:\n",
    "        ptr[i] = find(ptr[i])\n",
    "        return ptr[i]"
   ]
  },
  {
   "cell_type": "code",
   "execution_count": 3,
   "metadata": {
    "id": "E0M3fLEiHxMH"
   },
   "outputs": [],
   "source": [
    "def union(r1,r2,big):\n",
    "    if r2 != r1:\n",
    "        if(ptr[r1]>ptr[r2]):\n",
    "            ptr[r2] += ptr[r1]\n",
    "            ptr[r1] = r2\n",
    "            r1 = r2\n",
    "        else:\n",
    "            ptr[r1] += ptr[r2]\n",
    "            ptr[r2] = r1\n",
    "        if -ptr[r1]>big:\n",
    "            big = -ptr[r1]\n",
    "    big_list.append(big / N )\n",
    "    return r1, r2, big"
   ]
  },
  {
   "cell_type": "code",
   "execution_count": 4,
   "metadata": {
    "id": "02HzYJhDBEBw"
   },
   "outputs": [],
   "source": [
    "bonds = []\n",
    "def bond(i, j) :\n",
    "    for i in range(L):\n",
    "        for j in range(L):\n",
    "            index = i * L + j\n",
    "            if j < L - 1:\n",
    "                bonds.append((index, index + 1))\n",
    "            else :\n",
    "                bonds.append((index, index - L + 1))\n",
    "            if i < L - 1:\n",
    "                bonds.append((index, index + L))\n",
    "            else :\n",
    "                bonds.append((index, index - L * (L - 1)))"
   ]
  },
  {
   "cell_type": "code",
   "execution_count": 5,
   "metadata": {
    "id": "IVixL5grB4Nm"
   },
   "outputs": [],
   "source": [
    "L = 6\n",
    "N = L ** 2\n",
    "Kmax = 4\n",
    "K = np.ones(N, int)\n",
    "nn = np.empty([N, Kmax], int)\n",
    "bond_len = 4 * N / 2\n",
    "p = 0.5\n",
    "bonds = []\n",
    "\n",
    "for i in range(N):\n",
    "    nn[i][0] = i-1+L*(i%L==0)\n",
    "    nn[i][1] = i+1-L*(i%L==L-1)\n",
    "    nn[i][2] = i-L+N*(i//L==0)\n",
    "    nn[i][3] = i+L-N*(i//L==L-1)\n",
    "ptr = np.empty(N, int)\n",
    "\n",
    "for i in range(N):\n",
    "    ptr[i] = -1\n",
    "\n",
    "bond(L, L)\n",
    "np.random.shuffle(bonds)\n",
    "\n",
    "big = 0\n",
    "big_list = [] # 처음에는 최대 클러스터 크기 그리기\n",
    "x_list = []\n",
    "\n",
    "for i in range(len(bonds)):\n",
    "    s1, s2 = bonds[i][0], bonds[i][1]\n",
    "    r1, r2 = find(s1), find(s2)\n",
    "    r1,r2, big = union(r1,r2,big)\n",
    "    # print(\"big_list :\", len(big_list))\n",
    "    x_list.append(i / N)\n",
    "    # print(\"x_list : \", x_list)"
   ]
  },
  {
   "cell_type": "code",
   "execution_count": 6,
   "metadata": {
    "colab": {
     "base_uri": "https://localhost:8080/",
     "height": 447
    },
    "id": "17AqJSmuL0nB",
    "outputId": "ddf165f4-f5b7-4ab1-d421-39b828407eeb"
   },
   "outputs": [
    {
     "data": {
      "text/plain": [
       "[<matplotlib.lines.Line2D at 0x10ef2e5d0>]"
      ]
     },
     "execution_count": 6,
     "metadata": {},
     "output_type": "execute_result"
    },
    {
     "data": {
      "image/png": "[encoded data removed]",
      "text/plain": [
       "<Figure size 640x480 with 1 Axes>"
      ]
     },
     "metadata": {},
     "output_type": "display_data"
    }
   ],
   "source": [
    "plt.plot(x_list, big_list)"
   ]
  },
  {
   "cell_type": "code",
   "execution_count": null,
   "metadata": {},
   "outputs": [],
   "source": []
  }
 ],
 "metadata": {
  "colab": {
   "provenance": []
  },
  "kernelspec": {
   "display_name": "Python 3 (ipykernel)",
   "language": "python",
   "name": "python3"
  },
  "language_info": {
   "codemirror_mode": {
    "name": "ipython",
    "version": 3
   },
   "file_extension": ".py",
   "mimetype": "text/x-python",
   "name": "python",
   "nbconvert_exporter": "python",
   "pygments_lexer": "ipython3",
   "version": "3.11.0"
  }
 },
 "nbformat": 4,
 "nbformat_minor": 4
}
