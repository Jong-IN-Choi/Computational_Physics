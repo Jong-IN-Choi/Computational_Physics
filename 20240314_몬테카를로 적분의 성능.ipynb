{
 "cells": [
  {
   "cell_type": "markdown",
   "id": "b631bd0b-7197-4dd7-85ac-88192303279c",
   "metadata": {},
   "source": [
    "# 몬테카를로 적분의 성능\n",
    "Monte Carlo 적분은 확률적 샘플링을 통해 함수의 적분 값을 추정한다.\n",
    "\n",
    "## 원리\n",
    "    1. 무작위 샘플링:\n",
    "    \t• 적분 구간 [0, 1]에서 무작위로 샘플  x_i 를 생성합니다.\n",
    "    \t• Uniform 분포와 Beta 분포(매개변수  \\alpha 와  \\beta )를 사용합니다.\n",
    "    2. 함수 값 평가:\n",
    "    \t• 샘플  x_i 를 함수  g(x) = 3x^2 에 대입하여 함수 값을 계산합니다.\n",
    "    3. 평균 계산:\n",
    "    \t• 함수 값들의 평균을 계산합니다.\n",
    "    4. 적분 값 추정:\n",
    "    \t• 적분 구간의 길이(1)를 곱하여 최종 적분 값을 추정합니다.\n"
   ]
  },
  {
   "cell_type": "markdown",
   "id": "8b020ac4-6596-4208-a380-9adf46db455d",
   "metadata": {},
   "source": [
    "# 2.4.4 특정 확률 분포를 따르는 난수 발생기 (2024.03.14)\n",
    "- $x = [0, 1] $\n",
    "- $y = \\sqrt{x} $"
   ]
  },
  {
   "cell_type": "code",
   "execution_count": 3,
   "id": "9a9a01f2-d9af-448a-8cfc-091659675ffd",
   "metadata": {},
   "outputs": [],
   "source": [
    "import numpy as np\n",
    "import random\n",
    "import matplotlib.pyplot as plt\n",
    "import math"
   ]
  },
  {
   "cell_type": "code",
   "execution_count": 4,
   "id": "f3529a97-95f3-42f6-942a-20222efa6cb9",
   "metadata": {},
   "outputs": [],
   "source": [
    "x = []\n",
    "y = []\n",
    "for i in range(1000000) :\n",
    "    a = random.random()\n",
    "    x.append(a)\n",
    "    b = np.sqrt(a)\n",
    "    y.append(b)\n"
   ]
  },
  {
   "cell_type": "code",
   "execution_count": 5,
   "id": "1ea8d2ff-952c-4f26-97b2-34f8d24190a7",
   "metadata": {},
   "outputs": [
    {
     "data": {
      "text/plain": [
       "Text(0.5, 1.0, 'y')"
      ]
     },
     "execution_count": 5,
     "metadata": {},
     "output_type": "execute_result"
    },
    {
     "data": {
      "image/png": "[encoded data removed]",
      "text/plain": [
       "<Figure size 640x480 with 2 Axes>"
      ]
     },
     "metadata": {},
     "output_type": "display_data"
    }
   ],
   "source": [
    "plt.subplot(2, 1, 1)\n",
    "plt.hist(x)\n",
    "plt.title('x')\n",
    "\n",
    "plt.subplot(2, 1, 2)\n",
    "plt.hist(y)\n",
    "plt.title('y')"
   ]
  },
  {
   "cell_type": "markdown",
   "id": "3746262d-b3f9-4191-97fd-e7d1c64ab948",
   "metadata": {},
   "source": [
    "# 3개 비교하기"
   ]
  },
  {
   "cell_type": "code",
   "execution_count": 13,
   "id": "adcce1e3-c6a7-426c-911e-ddf99509deb7",
   "metadata": {},
   "outputs": [
    {
     "name": "stdout",
     "output_type": "stream",
     "text": [
      "Uniform 분포: 0.999333799783498\n"
     ]
    }
   ],
   "source": [
    "# 함수 정의\n",
    "def g(x) :\n",
    "    return 3 * (x ** 2)\n",
    "\n",
    "        # Uniform 분포를 사용한 Monte Carlo \n",
    "        \n",
    "        # sum = 0\n",
    "        # N = 0\n",
    "        # for i in range(10000000) :\n",
    "        #     num = random.random()\n",
    "        #     sum += g(num)\n",
    "        #     N += 1\n",
    "        # result = 1 / N * sum\n",
    "        # print('uniform : ', result)\n",
    "\n",
    "# Numpy\n",
    "N = 10000000\n",
    "samples_uniform = np.random.rand(N) \n",
    "sum_uniform = np.sum(g(samples_uniform)) \n",
    "result_uniform = sum_uniform / N \n",
    "print('Uniform 분포:', result_uniform)"
   ]
  },
  {
   "cell_type": "code",
   "execution_count": 14,
   "id": "802dcace-44a5-4776-afa2-79d4a9ee5a01",
   "metadata": {},
   "outputs": [
    {
     "name": "stdout",
     "output_type": "stream",
     "text": [
      "Beta 분포: 1.0027125166462425\n"
     ]
    }
   ],
   "source": [
    "# 베타 분포에서 나온 난수를 베타 함수에 넣어서 계산하기\n",
    "def beta(x, a, b) :\n",
    "    return math.gamma(a+b) * ((x ** (a-1)) * ((1-x) ** (b-1))) / (math.gamma(a) * math.gamma(b))\n",
    "\n",
    "\n",
    "        # N = 0\n",
    "        # sum = 0\n",
    "        # for i in range(10000000) :\n",
    "        #     num = random.betavariate(2, 2)\n",
    "        #     sum += g(num) / beta(num, 2, 2)\n",
    "        #     N += 1\n",
    "        # result = 1 / N * sum\n",
    "        # print('beta : ', result)\n",
    "\n",
    "# Numpy\n",
    "samples_beta = np.random.beta(2, 2, N)  # Beta(2, 2) 분포를 따르는 난수 생성\n",
    "g_values_beta = g(samples_beta) / beta(samples_beta, 2, 2)  # g(x) / Beta(x|2, 2) 값 계산\n",
    "result_beta = np.mean(g_values_beta)  # Monte Carlo 적분 근사값 계산\n",
    "print('Beta 분포:', result_beta)"
   ]
  },
  {
   "cell_type": "code",
   "execution_count": 15,
   "id": "32eb6bff-0ab4-4e3e-bed5-3ede826e42d5",
   "metadata": {},
   "outputs": [
    {
     "name": "stdout",
     "output_type": "stream",
     "text": [
      "f(y) = 2y: 1.0000576238221464\n"
     ]
    }
   ],
   "source": [
    "# f(y) = 2y 함수를 사용한 Monte Carlo 적분\n",
    "\n",
    "def f(y) :\n",
    "    return 2 * y\n",
    "\n",
    "        # N = 0\n",
    "        # sum = 0\n",
    "        # for i in range(10000000) :\n",
    "        #     num = math.sqrt(random.random())\n",
    "        #     sum += g(num) / f(num)\n",
    "        #     N += 1\n",
    "        # result = 1 / N * sum\n",
    "        # print('f(y)=2y : ', result)\n",
    "\n",
    "# Numpy\n",
    "samples_sqrt = np.sqrt(np.random.rand(N)) \n",
    "g_values_sqrt = g(samples_sqrt) / f(samples_sqrt)\n",
    "result_sqrt = np.mean(g_values_sqrt)\n",
    "print('f(y) = 2y:', result_sqrt)"
   ]
  },
  {
   "cell_type": "markdown",
   "id": "60859b8b-7db9-40fc-94ff-9cd89a748018",
   "metadata": {},
   "source": [
    "# 10번돌리기"
   ]
  },
  {
   "cell_type": "code",
   "execution_count": 9,
   "id": "58acfafe-683a-4399-a109-2789f1a0b738",
   "metadata": {},
   "outputs": [],
   "source": [
    "import statistics"
   ]
  },
  {
   "cell_type": "code",
   "execution_count": 12,
   "id": "618b76c5-1f84-46b9-b546-576549f6a158",
   "metadata": {},
   "outputs": [
    {
     "name": "stdout",
     "output_type": "stream",
     "text": [
      "10번 돌린 리스트: [1.0022330712940575, 0.9992229787799479, 1.0015810602577555, 1.0011238918991852, 1.000289466693124, 1.0041250804880077, 0.9993080035315334, 1.0011164831027433, 0.9966483154533905, 1.0008574149743439]\n",
      "10번 돌린 평균: 1.0006505766474088\n",
      "10번 돌린 표준 오차: 0.0006317100033259536\n"
     ]
    }
   ],
   "source": [
    "#함수 정의한것으로 10번 돌리기\n",
    "\n",
    "def g(x) :\n",
    "    return 3 * (x ** 2)\n",
    "        \n",
    "        # a_list = []\n",
    "        # for i in range(10) :\n",
    "        #     sum = 0\n",
    "        #     N = 0\n",
    "        #     for i in range(100000) :\n",
    "        #         num = random.random()\n",
    "        #         sum += g(num)\n",
    "        #         N += 1\n",
    "        #     result = 1 / N * sum\n",
    "        #     a_list.append(result)\n",
    "        \n",
    "        # print('10번 돌린 리스트', a_list)\n",
    "        # a_mean = statistics.mean(a_list)\n",
    "        # print('10번 돌린 평균', a_mean)\n",
    "        \n",
    "        # sum = 0\n",
    "        # for i in range(len(a_list)) :\n",
    "        #     sum += (a_list[i]-a_mean) ** 2\n",
    "        # a_se = 1 / (10-1) * sum\n",
    "        # print('10번 돌린 분산', a_se)\n",
    "\n",
    "# 시뮬레이션 횟수와 실험 횟수\n",
    "simulations = 10\n",
    "N = 100000\n",
    "\n",
    "# 결과를 저장할 리스트 초기화\n",
    "a_list = []\n",
    "\n",
    "# Monte Carlo 시뮬레이션 반복\n",
    "for _ in range(simulations):\n",
    "    sum_result = 0\n",
    "    for _ in range(N):\n",
    "        num = random.random()\n",
    "        sum_result += g(num)\n",
    "    \n",
    "    result = sum_result / N\n",
    "    a_list.append(result)\n",
    "\n",
    "# 결과 출력\n",
    "print('10번 돌린 리스트:', a_list)\n",
    "\n",
    "# 평균 계산\n",
    "a_mean = np.mean(a_list)\n",
    "print('10번 돌린 평균:', a_mean)\n",
    "\n",
    "# 표준 오차 계산\n",
    "a_se = np.std(a_list, ddof=1) / np.sqrt(simulations)\n",
    "print('10번 돌린 표준 오차:', a_se)"
   ]
  },
  {
   "cell_type": "code",
   "execution_count": 16,
   "id": "e618f23d-419c-41d4-913a-106f129c9320",
   "metadata": {},
   "outputs": [
    {
     "name": "stdout",
     "output_type": "stream",
     "text": [
      "10번 돌린 리스트: [0.995691724125274, 1.0028720190478335, 1.0053004860723895, 0.998683818050908, 1.0036337004021885, 0.9996622897383926, 1.00017857426228, 0.9996881534397436, 0.9989102370127906, 1.0038533338659914]\n",
      "10번 돌린 평균: 1.0008474336017792\n",
      "10번 돌린 표준 오차: 0.0009365332881630356\n"
     ]
    }
   ],
   "source": [
    "# 베타 분포에서 나온 난수를 베타 함수에 넣어서 계산하기\n",
    "def beta(x, a, b) :\n",
    "    return math.gamma(a+b) * ((x ** (a-1)) * ((1-x) ** (b-1))) / (math.gamma(a) * math.gamma(b))\n",
    "        \n",
    "        # b_list = []\n",
    "        # for i in range(10) :\n",
    "        #     N = 0\n",
    "        #     sum = 0\n",
    "        #     for i in range(100000) :\n",
    "        #         num = random.betavariate(2, 2)\n",
    "        #         sum += g(num) / beta(num, 2, 2)\n",
    "        #         N += 1\n",
    "        #     result = 1 / N * sum\n",
    "        #     b_list.append(result)\n",
    "        # print('10번돌린 리스트 : ', b_list)\n",
    "        # b_mean = statistics.mean(b_list)\n",
    "        # print('10번 돌린 평균', b_mean)\n",
    "        \n",
    "        # sum = 0\n",
    "        # for i in range(len(b_list)) :\n",
    "        #     sum += (b_list[i]-b_mean) ** 2\n",
    "        # b_se = 1 / (10-1) * sum\n",
    "        # print('10번 돌린 분산', b_se)\n",
    "\n",
    "# 시뮬레이션 횟수와 실험 횟수\n",
    "simulations = 10\n",
    "N = 100000\n",
    "\n",
    "# 결과를 저장할 리스트 초기화\n",
    "b_list = []\n",
    "\n",
    "# Monte Carlo 시뮬레이션 반복\n",
    "for _ in range(simulations):\n",
    "    sum_result = 0\n",
    "    for _ in range(N):\n",
    "        num = random.random()\n",
    "        sum_result += g(num)\n",
    "    \n",
    "    result = sum_result / N\n",
    "    b_list.append(result)\n",
    "\n",
    "# 결과 출력\n",
    "print('10번 돌린 리스트:', b_list)\n",
    "\n",
    "# 평균 계산\n",
    "b_mean = np.mean(b_list)\n",
    "print('10번 돌린 평균:', b_mean)\n",
    "\n",
    "# 표준 오차 계산\n",
    "b_se = np.std(b_list, ddof=1) / np.sqrt(simulations)\n",
    "print('10번 돌린 표준 오차:', b_se)"
   ]
  },
  {
   "cell_type": "code",
   "execution_count": 17,
   "id": "3ae2e935-be14-4a40-8c42-4bb333f2b761",
   "metadata": {},
   "outputs": [
    {
     "name": "stdout",
     "output_type": "stream",
     "text": [
      "10번 돌린 리스트: [1.0006112862838692, 1.002601786868576, 1.002273388662437, 0.9979825466319665, 0.9985185921782783, 1.0041586066851393, 0.9985341472716098, 1.001942081718315, 1.0023116451872014, 0.9978698036755668]\n",
      "10번 돌린 평균: 1.0006505766474088\n",
      "10번 돌린 표준 오차: 0.0007229762465129826\n"
     ]
    }
   ],
   "source": [
    "def f(y) :\n",
    "    return 2 * y\n",
    "\n",
    "        # c_list = []\n",
    "        # for i in range(10) :\n",
    "        #     N = 0\n",
    "        #     sum = 0\n",
    "        #     for i in range(10000000) :\n",
    "        #         num = math.sqrt(random.random())\n",
    "        #         sum += g(num) / f(num)\n",
    "        #         N += 1\n",
    "        \n",
    "        #     result = 1 / N * sum\n",
    "        #     c_list.append(result)\n",
    "        # print('10번돌린 리스트 : ', c_list)\n",
    "        # c_mean = statistics.mean(c_list)\n",
    "        # print('10번 돌린 평균', c_mean)\n",
    "        \n",
    "        # sum = 0\n",
    "        # for i in range(len(c_list)) :\n",
    "        #     sum += (c_list[i]-c_mean) ** 2\n",
    "        # c_se = 1 / (10-1) * sum\n",
    "        # print('10번 돌린 분산', c_se)\n",
    "\n",
    "# 시뮬레이션 횟수와 실험 횟수\n",
    "simulations = 10\n",
    "N = 100000\n",
    "\n",
    "# 결과를 저장할 리스트 초기화\n",
    "c_list = []\n",
    "\n",
    "# Monte Carlo 시뮬레이션 반복\n",
    "for _ in range(simulations):\n",
    "    sum_result = 0\n",
    "    for _ in range(N):\n",
    "        num = random.random()\n",
    "        sum_result += g(num)\n",
    "    \n",
    "    result = sum_result / N\n",
    "    c_list.append(result)\n",
    "\n",
    "# 결과 출력\n",
    "print('10번 돌린 리스트:', c_list)\n",
    "\n",
    "# 평균 계산\n",
    "c_mean = np.mean(a_list)\n",
    "print('10번 돌린 평균:', c_mean)\n",
    "\n",
    "# 표준 오차 계산\n",
    "c_se = np.std(c_list, ddof=1) / np.sqrt(simulations)\n",
    "print('10번 돌린 표준 오차:', c_se)"
   ]
  },
  {
   "cell_type": "markdown",
   "id": "fc38b09a-c7ab-4f6f-b9c7-12cc131263d2",
   "metadata": {},
   "source": [
    "# 결과 : 2번이 분산이 제일 크고, 3번이 분산이 제일 작음"
   ]
  },
  {
   "cell_type": "code",
   "execution_count": null,
   "id": "f50b9b3e-1c8c-4a00-af0d-4f9f011a82d2",
   "metadata": {},
   "outputs": [],
   "source": []
  }
 ],
 "metadata": {
  "kernelspec": {
   "display_name": "Python 3 (ipykernel)",
   "language": "python",
   "name": "python3"
  },
  "language_info": {
   "codemirror_mode": {
    "name": "ipython",
    "version": 3
   },
   "file_extension": ".py",
   "mimetype": "text/x-python",
   "name": "python",
   "nbconvert_exporter": "python",
   "pygments_lexer": "ipython3",
   "version": "3.11.0"
  }
 },
 "nbformat": 4,
 "nbformat_minor": 5
}
