{
 "cells": [
  {
   "cell_type": "markdown",
   "metadata": {
    "id": "kZJuCXtIBaei"
   },
   "source": [
    "# BFS\n",
    "\n",
    "너비우선탐색 알고리즘 : 그래프나 트리에서 가까운 노드부터 탐색하는 알고리즘\n",
    "\n",
    "\t• 큐(Queue) 사용: BFS는 큐를 사용하여 구현. 탐색을 시작할 노드를 큐에 넣고, 큐에서 노드를 하나씩 꺼내어 그 노드의 이웃 노드들을 모두 방문한다.\n",
    "\t• 너비 우선: BFS는 현재 노드에서 가까운 이웃 노드들을 모두 방문한 후에는 그 이웃 노드들의 이웃 노드들을 순차적으로 방문. 즉, 너비(가까운 노드들)를 우선적으로 탐색합니다.\n",
    "\t• 최단 경로 탐색: 시작 노드에서부터 각 노드까지의 최단 경로를 탐색한다.\n"
   ]
  },
  {
   "cell_type": "code",
   "execution_count": 102,
   "metadata": {
    "id": "6BpQzYt65FD0"
   },
   "outputs": [],
   "source": [
    "import queue\n",
    "import numpy as np"
   ]
  },
  {
   "cell_type": "code",
   "execution_count": 103,
   "metadata": {
    "colab": {
     "base_uri": "https://localhost:8080/"
    },
    "id": "KOQItpmU6WHl",
    "outputId": "8a2712e6-1396-4ab3-9611-436c3ec28d34"
   },
   "outputs": [
    {
     "name": "stdout",
     "output_type": "stream",
     "text": [
      "[[ 2 -1 -1 -1]\n",
      " [ 2  5 -1 -1]\n",
      " [ 0  1  3  4]\n",
      " [ 2 -1 -1 -1]\n",
      " [ 2 -1 -1 -1]\n",
      " [ 1  6  7 -1]\n",
      " [ 5 -1 -1 -1]\n",
      " [ 5 -1 -1 -1]]\n"
     ]
    }
   ],
   "source": [
    "N = 8\n",
    "Kmax = 4\n",
    "K = np.array([1, 2, 4, 1, 1, 3, 1, 1])  # 이웃의 수\n",
    "\n",
    "nn = np.empty([N, Kmax], int)\n",
    "nn[0] = np.array([2, -1, -1, -1])\n",
    "nn[1] = np.array([2, 5, -1, -1])\n",
    "nn[2] = np.array([0, 1, 3, 4])\n",
    "nn[3] = np.array([2, -1, -1, -1])\n",
    "nn[4] = np.array([2, -1, -1, -1])\n",
    "nn[5] = np.array([1, 6, 7, -1])\n",
    "nn[6] = np.array([5, -1, -1, -1])\n",
    "nn[7] = np.array([5, -1, -1, -1])\n",
    "\n",
    "print(nn)"
   ]
  },
  {
   "cell_type": "code",
   "execution_count": 112,
   "metadata": {
    "id": "yX945Oy43VrQ"
   },
   "outputs": [],
   "source": [
    "# K : 이웃의 수, nn: 이웃들 , start : 그래프 출발점 ,discovered : 점이 발견\n",
    "def bfs(K, nn, start, discovered):\n",
    "    q = queue.Queue()\n",
    "    q.put(start) # 빈 큐에 출발점 추가하고\n",
    "    discovered[start] = True # 이 점을 발견 .\n",
    "    while q.qsize()>0: # 큐에 원소가 남아있는 한\n",
    "        element = q.get() # 큐에서 한 점을 뽑아서\n",
    "        # print(element)\n",
    "        for k in range(K[element]):\n",
    "            neighbor = nn[element][k] # 그 이웃 각각에 대해\n",
    "            if discovered[neighbor]==False: # 미발견이면\n",
    "                q.put(neighbor) # 큐에 추가하고\n",
    "                discovered[neighbor] = True # 이 점을 발견 .\n",
    "                # print('----------------')"
   ]
  },
  {
   "cell_type": "code",
   "execution_count": 113,
   "metadata": {
    "colab": {
     "base_uri": "https://localhost:8080/"
    },
    "id": "OwfXylyc7cfm",
    "outputId": "fd78faed-e4d7-45b8-ba1c-8b357b86d6ac"
   },
   "outputs": [
    {
     "name": "stdout",
     "output_type": "stream",
     "text": [
      "Discovered: [ True  True  True  True  True  True  True  True]\n"
     ]
    }
   ],
   "source": [
    "discovered = np.array([False] * N)\n",
    "start = 0\n",
    "bfs(K, nn, start, discovered)\n",
    "print(\"Discovered:\", discovered)"
   ]
  },
  {
   "cell_type": "code",
   "execution_count": 106,
   "metadata": {
    "id": "tPHTv6cP5-bZ"
   },
   "outputs": [],
   "source": [
    "# K : 이웃의 수, nn: 이웃들 , start : 그래프 출발점 ,discovered : 점이 발견\n",
    "def distance_bfs(K, nn, start, discovered):\n",
    "    q = queue.Queue()\n",
    "    q.put(start) # 빈 큐에 출발점 추가하고\n",
    "    discovered[start] = 0\n",
    "    while q.qsize()>0: # 큐에 원소가 남아있는 한\n",
    "        element = q.get() # 큐에서 한 점을 뽑아서\n",
    "        for k in range(K[element]):\n",
    "            neighbor = nn[element][k] # 그 이웃 각각에 대해\n",
    "            if discovered[neighbor]== -1: # 미발견이면\n",
    "                q.put(neighbor) # 큐에 추가하고\n",
    "                discovered[neighbor] = discovered[element] + 1 # 이 점을 발견 .\n",
    "    return discovered"
   ]
  },
  {
   "cell_type": "code",
   "execution_count": 107,
   "metadata": {
    "colab": {
     "base_uri": "https://localhost:8080/"
    },
    "id": "ef0Nyi369sY7",
    "outputId": "2a68ec74-9587-495e-eace-8378b8fa1550"
   },
   "outputs": [
    {
     "name": "stdout",
     "output_type": "stream",
     "text": [
      "Distance: [0 2 1 2 2 3 4 4]\n"
     ]
    }
   ],
   "source": [
    "discovered = np.array([-1] * N)\n",
    "start = 0\n",
    "distance_bfs(K, nn, start, discovered)\n",
    "print(\"Distance:\", discovered)"
   ]
  }
 ],
 "metadata": {
  "colab": {
   "provenance": []
  },
  "kernelspec": {
   "display_name": "Python 3 (ipykernel)",
   "language": "python",
   "name": "python3"
  },
  "language_info": {
   "codemirror_mode": {
    "name": "ipython",
    "version": 3
   },
   "file_extension": ".py",
   "mimetype": "text/x-python",
   "name": "python",
   "nbconvert_exporter": "python",
   "pygments_lexer": "ipython3",
   "version": "3.11.0"
  }
 },
 "nbformat": 4,
 "nbformat_minor": 4
}
