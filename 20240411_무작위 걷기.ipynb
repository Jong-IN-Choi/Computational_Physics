{
 "cells": [
  {
   "cell_type": "markdown",
   "id": "032f5b3d-f024-4d39-9dd8-aa1cccd892a0",
   "metadata": {},
   "source": [
    "# 무작위 추출법\n",
    "모집단으로부터 표본을 추출할 때 사용되는 방법론. 모집단(population)은 연구나 조사의 대상이 되는 모든 개체나 사례들의 집합을 말하며, 모집단으로부터 추출된 일부 개체나 사례를 표본(sample)이라고 합니다."
   ]
  },
  {
   "cell_type": "code",
   "execution_count": 6,
   "id": "e84c3549-ab11-4d55-8365-04bf0e9808c0",
   "metadata": {},
   "outputs": [],
   "source": [
    "import random as rd\n",
    "import numpy as np"
   ]
  },
  {
   "cell_type": "markdown",
   "id": "64b92e2e-8309-4590-b587-8d1f5e4c5f73",
   "metadata": {},
   "source": [
    "## 첫번째 알고리즘 순서 ##\n",
    "\n",
    "\t• 워커는 각 스텝마다 확률  p 에 따라 오른쪽 또는 왼쪽으로 이동한다.\n",
    "\t• 총 50번의 스텝을 거친 후 워커의 위치  x 가 15보다 크면 성공\n",
    "\t• 이 과정을 여러 번 반복하여 성공한 비율을 계산한다.\n",
    "\n",
    "워커가 다른 확률  P 에 따라 이동하며, 목표 지점에 도달할 때의 확률을 계산한다."
   ]
  },
  {
   "cell_type": "code",
   "execution_count": 23,
   "id": "3c123a55-9921-4b82-81ef-a296910885af",
   "metadata": {},
   "outputs": [
    {
     "name": "stdout",
     "output_type": "stream",
     "text": [
      "0.000188\n"
     ]
    }
   ],
   "source": [
    "N = 1000000 #표본\n",
    "p = 0.4 #확률 : 0.4보다 크면 왼쪽, 0.4보다 작으면 오른쪽\n",
    "s = 0 \n",
    "\n",
    "for i in range(N) :\n",
    "    x = 0 # random walker의 초기 위치\n",
    "    for j in range(50) :\n",
    "        temp_p = rd.random()\n",
    "        if temp_p >= p :\n",
    "            x -= 1\n",
    "        else :\n",
    "            x += 1\n",
    "    if x > 15 :\n",
    "        s += 1\n",
    "        \n",
    "print(s / N)"
   ]
  },
  {
   "cell_type": "markdown",
   "id": "198e8c5e-a5cc-4a9f-b1af-99551981d41c",
   "metadata": {},
   "source": [
    "## 두번째 알고리즘 순서 ##\n",
    "\n",
    "\t• 각 스텝마다 확률  q 에 따라 오른쪽 또는 왼쪽으로 이동한다.\n",
    "\t• 50번의 스텝 중 오른쪽으로 간 횟수를  s 로 카운트한다.\n",
    "\t• 워커의 최종 위치  x 가 15보다 크면, 해당 시뮬레이션에서 가중치  w 를 계산한다.\n",
    "\t• 이 과정을 여러 번 반복하여 가중치의 평균을 계산한다.\n",
    "\n",
    "워커가 다른 확률  q 에 따라 이동하며, 목표 지점에 도달할 때 가중치를 계산하여 평균화한다."
   ]
  },
  {
   "cell_type": "code",
   "execution_count": 51,
   "id": "a14d1458-6d3b-497b-94a1-fe0c101506d7",
   "metadata": {
    "scrolled": true
   },
   "outputs": [
    {
     "data": {
      "text/plain": [
       "0.00018103678754425781"
      ]
     },
     "execution_count": 51,
     "metadata": {},
     "output_type": "execute_result"
    }
   ],
   "source": [
    "N = 1000000 #표본\n",
    "\n",
    "q = 0.65 #확률 : 0.65보다 크면 오른쪽, 0.65보다 작으면 왼쪽\n",
    "p = 0.4\n",
    "total_w = 0\n",
    "\n",
    "\n",
    "for i in range(N) :\n",
    "    x = 0 # random walker의 초기 위치\n",
    "    s = 0 # 오른쪽으로 간 횟수\n",
    "    for j in range(50) :\n",
    "        temp_q = rd.random()\n",
    "        if temp_q >= q :\n",
    "            x -= 1\n",
    "        else :\n",
    "            x += 1\n",
    "            s += 1\n",
    "    if x > 15 :\n",
    "        w = ( (p / q) ** s ) *  ( ((1 - p) / (1 - q)) ** (50 - s) )\n",
    "        total_w += w  \n",
    "\n",
    "total_w / N"
   ]
  },
  {
   "cell_type": "code",
   "execution_count": null,
   "id": "0f4d194c-87d1-4fff-8fec-4ca8139cd45e",
   "metadata": {},
   "outputs": [],
   "source": []
  }
 ],
 "metadata": {
  "kernelspec": {
   "display_name": "Python 3 (ipykernel)",
   "language": "python",
   "name": "python3"
  },
  "language_info": {
   "codemirror_mode": {
    "name": "ipython",
    "version": 3
   },
   "file_extension": ".py",
   "mimetype": "text/x-python",
   "name": "python",
   "nbconvert_exporter": "python",
   "pygments_lexer": "ipython3",
   "version": "3.11.0"
  }
 },
 "nbformat": 4,
 "nbformat_minor": 5
}
