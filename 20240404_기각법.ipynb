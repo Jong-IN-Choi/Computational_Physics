{
 "cells": [
  {
   "cell_type": "markdown",
   "id": "ddb31623-53cc-4eaf-aaea-deb24cb7cd3d",
   "metadata": {},
   "source": [
    "# 기각법\n",
    "확률 밀도 함수를 따르는 난수 생성 방법 중 하나로, 특정 확률 분포를 따르는 난수를 생성하는 데 유용하다.\n",
    "\n",
    "## 원리\n",
    "\t1. 목표 분포 설정:\n",
    "        - 생성하려는 난수가 따를 목표 확률 분포를 정의한다.\n",
    "\t2. 범위 설정:\n",
    "        - 목표 확률 분포에서 생성하려는 값의 범위를 설정한다.\n",
    "\t3. 귀무 분포에서 난수 생성: \n",
    "        - 설정한 범위 내에서 균일 분포나 다른 특정한 분포(귀무 분포)에서 난수를 생성한다.\n",
    "\t4. 기각-수락 조건 검사:\n",
    "        - 생성된 난수가 목표 확률 분포를 따르는지 확인하기 위해 기각-수락 조건을 적용한다. \n",
    "\t5. 난수 생성 및 반환 :\n",
    "        - 기각-수락 조건에 따라 난수를 생성하고, 목표 확률 분포를 따르는 난수를 반환한다."
   ]
  },
  {
   "cell_type": "code",
   "execution_count": 6,
   "id": "eda1b798-3052-463f-804a-318f60ffdd20",
   "metadata": {},
   "outputs": [],
   "source": [
    "import random\n",
    "import numpy as np\n",
    "import math\n",
    "import matplotlib.pyplot as plt"
   ]
  },
  {
   "cell_type": "code",
   "execution_count": 2,
   "id": "02bf2eb3-ade8-4688-b0c9-e385bc3b69f0",
   "metadata": {},
   "outputs": [],
   "source": [
    "def p(x) : \n",
    "    return 0.3 / (1.5 * math.sqrt(2 * math.pi)) * np.exp(-(1/2)*((x-(-3))/1.5)**2) + 0.7 / (1.5 * math.sqrt(2 * math.pi)) * np.exp(-(1/2)*((x-(5))/1.5)**2)"
   ]
  },
  {
   "cell_type": "code",
   "execution_count": 3,
   "id": "8e5fc081-0705-47e8-9110-3701e10334c6",
   "metadata": {},
   "outputs": [],
   "source": [
    "def q(x) :\n",
    "    if -8 < x and x < 12 :\n",
    "        return 1/20"
   ]
  },
  {
   "cell_type": "code",
   "execution_count": 4,
   "id": "9662c4d1-47d5-4f6c-9960-47fa02751ecb",
   "metadata": {},
   "outputs": [],
   "source": [
    "x = list()\n",
    "y = list()\n",
    "C = 4\n",
    "for i in range(100000) :\n",
    "    # 제안분포\n",
    "    x_i = np.random.uniform(-8,12)\n",
    "    # 균등분포\n",
    "    u_i = np.random.uniform(0, 1)\n",
    "    if u_i < p(x_i)/ (C*q(x_i)) :\n",
    "        x.append(x_i)\n",
    "        y.append(u_i)"
   ]
  },
  {
   "cell_type": "code",
   "execution_count": 10,
   "id": "8707544b-3696-42c2-97aa-c6e91d4a7142",
   "metadata": {},
   "outputs": [
    {
     "data": {
      "image/png": "[encoded data removed]",
      "text/plain": [
       "<Figure size 640x480 with 1 Axes>"
      ]
     },
     "metadata": {},
     "output_type": "display_data"
    }
   ],
   "source": [
    "plt.hist(x, bins = 1000)\n",
    "plt.show()"
   ]
  },
  {
   "cell_type": "code",
   "execution_count": null,
   "id": "47562e3e-e43f-4e31-a009-034dd9e41b22",
   "metadata": {},
   "outputs": [],
   "source": []
  }
 ],
 "metadata": {
  "kernelspec": {
   "display_name": "Python 3 (ipykernel)",
   "language": "python",
   "name": "python3"
  },
  "language_info": {
   "codemirror_mode": {
    "name": "ipython",
    "version": 3
   },
   "file_extension": ".py",
   "mimetype": "text/x-python",
   "name": "python",
   "nbconvert_exporter": "python",
   "pygments_lexer": "ipython3",
   "version": "3.11.0"
  }
 },
 "nbformat": 4,
 "nbformat_minor": 5
}
