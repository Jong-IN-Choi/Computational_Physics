{
 "cells": [
  {
   "cell_type": "markdown",
   "metadata": {},
   "source": [
    "# 메트로폴리스의 개선\n",
    " 기존 메트로 폴리스와 Newman코드의 차이점\n",
    " \n",
    "\t- 메트로폴리스 샘플링 구현 :\n",
    "    \t- 격자 상의 각 스핀 위치를 무작위로 선택하여 뒤집고, 에너지 차이를 계산한 후, 이를 기반으로 스핀을 수용하거나 거부하는 과정을 반복한다.\n",
    "\t- 효율적인 에너지 계산:\n",
    "    \t- 에너지 계산을 효율적으로 하기 위해, 새로운 상태가 제안될 때마다 클러스터에 속하는 모든 스핀의 에너지만 계산한다.\n",
    "    \t- 이는 전체 격자의 에너지를 계산하는 것보다 훨씬 더 빠르게 수행될 수 있다."
   ]
  },
  {
   "cell_type": "code",
   "execution_count": 22,
   "metadata": {
    "colab": {
     "base_uri": "https://localhost:8080/",
     "height": 462
    },
    "id": "WATAUsG35pbB",
    "outputId": "2f98f734-3d54-421c-d085-a9b4102aff3c"
   },
   "outputs": [
    {
     "name": "stdout",
     "output_type": "stream",
     "text": [
      "E_list: [-2.556, -4.716, -18.256, -10.1, -44.032, -47.24, -48.52, -49.84, -49.544, -50.0]\n",
      "spin_list: [-0.05448000000000002, 0.1060000000000001, 0.5239199999999989, 0.11768000000000034, -0.9230399999999979, -0.9715199999999988, -0.9849599999999988, -0.9983999999999994, -0.9954399999999977, -1.0]\n"
     ]
    },
    {
     "data": {
      "image/png": "[encoded data removed]",
      "text/plain": [
       "<Figure size 640x480 with 1 Axes>"
      ]
     },
     "metadata": {},
     "output_type": "display_data"
    }
   ],
   "source": [
    "import random\n",
    "import numpy as np\n",
    "import matplotlib.pyplot as plt\n",
    "\n",
    "def neighbor(L, N):\n",
    "    neighbor_point = []\n",
    "\n",
    "    x = N % L\n",
    "    y = N // L\n",
    "\n",
    "    if x == 0:\n",
    "        temp_x = x + L - 1\n",
    "        temp_y = y\n",
    "        neighbor_point.append([temp_x, y])\n",
    "    else:\n",
    "        neighbor_point.append([x - 1, y])\n",
    "\n",
    "    if x == L - 1:\n",
    "        temp_x = x - L + 1\n",
    "        temp_y = y\n",
    "        neighbor_point.append([temp_x, y])\n",
    "    else:\n",
    "        neighbor_point.append([x + 1, y])\n",
    "\n",
    "    if y == 0:\n",
    "        temp_x = x\n",
    "        temp_y = (L - 1)\n",
    "        neighbor_point.append([x, temp_y])\n",
    "    else:\n",
    "        neighbor_point.append([x, y - 1])\n",
    "\n",
    "    if y == L - 1:\n",
    "        temp_x = x\n",
    "        temp_y = 0\n",
    "        neighbor_point.append([x, temp_y])\n",
    "    else:\n",
    "        neighbor_point.append([x, y + 1])\n",
    "\n",
    "    return neighbor_point\n",
    "\n",
    "def energy(L, A) : #L : 행의 갯수, A: 행렬 이름\n",
    "    E = 0\n",
    "    for i in range(L ** 2) :\n",
    "        target_x = i % L\n",
    "        target_y = i // L\n",
    "\n",
    "        for i in neighbor(L, i) :\n",
    "            if A[target_x][target_y] == A[i[0]][i[1]] :\n",
    "                E -= 1\n",
    "            else :\n",
    "                E += 1\n",
    "    E = E/2\n",
    "    # print(E) # double count 문제 해결하기 위해 \"/2\"함\n",
    "    return E\n",
    "\n",
    "\n",
    "L = 5\n",
    "n = 1000\n",
    "beta = np.linspace(0.1, 1.0, 10)\n",
    "\n",
    "S = np.random.randint(0, 2, (L, L)) * 2 - 1\n",
    "S[0][0] = +1\n",
    "E_list = []\n",
    "spin_list = []\n",
    "\n",
    "for temp_beta in beta:\n",
    "    avg_energy = 0\n",
    "    avg_spin = 0\n",
    "    for _ in range(n):\n",
    "        U = S.copy()\n",
    "        random_row = np.random.randint(0, L)\n",
    "        random_col = np.random.randint(0, L)\n",
    "        U[random_row, random_col] *= -1  # 스핀을 뒤집음\n",
    "\n",
    "        temp_sum = 0\n",
    "        for i,j in neighbor(L, random_row * L + random_col) :\n",
    "            temp_sum += S[i][j]\n",
    "        delta_E = 2 * S[random_row][random_col] * temp_sum\n",
    "\n",
    "        avg_delta += abs(delta_E)\n",
    "\n",
    "        if delta_E <= 0 or np.random.random() < np.exp(-temp_beta * delta_E):\n",
    "            S = U\n",
    "\n",
    "        avg_energy += energy(L, S)\n",
    "        avg_spin += np.sum(S) / (L ** 2)\n",
    "\n",
    "    avg_energy /= n\n",
    "    avg_spin /= n\n",
    "    E_list.append(avg_energy)\n",
    "    spin_list.append(avg_spin)\n",
    "\n",
    "print('E_list:', E_list)\n",
    "print('spin_list:', spin_list)\n",
    "\n",
    "plt.plot(beta, E_list, label = 'E_list')\n",
    "plt.plot(beta, spin_list, label = 'spin_list')\n",
    "plt.xlabel('beta')\n",
    "plt.legend()\n",
    "plt.show()"
   ]
  },
  {
   "cell_type": "code",
   "execution_count": null,
   "metadata": {
    "id": "KvyHcCYL5uPI"
   },
   "outputs": [],
   "source": []
  }
 ],
 "metadata": {
  "colab": {
   "provenance": []
  },
  "kernelspec": {
   "display_name": "Python 3 (ipykernel)",
   "language": "python",
   "name": "python3"
  },
  "language_info": {
   "codemirror_mode": {
    "name": "ipython",
    "version": 3
   },
   "file_extension": ".py",
   "mimetype": "text/x-python",
   "name": "python",
   "nbconvert_exporter": "python",
   "pygments_lexer": "ipython3",
   "version": "3.11.0"
  }
 },
 "nbformat": 4,
 "nbformat_minor": 4
}
