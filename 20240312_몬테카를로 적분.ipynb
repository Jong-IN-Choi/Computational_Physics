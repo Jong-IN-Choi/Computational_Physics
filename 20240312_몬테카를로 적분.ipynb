{
 "cells": [
  {
   "cell_type": "markdown",
   "id": "982a4557-efef-45ce-9e09-c9bdd56d705e",
   "metadata": {},
   "source": [
    "# 몬테카를로 적분\n",
    "Monte Carlo 방법을 사용하여 주어진 함수  g(x) 의 기대값  E(g) 를 추정한다. \n",
    "Monte Carlo 방법은 확률적 샘플링을 통해 복잡한 시스템의 수학적 문제를 근사적으로 해결하는 기법이다.\n",
    "\n",
    "## 원리:\n",
    "\n",
    "\t1.무작위 샘플링:\n",
    "    \t• 난수를 생성하여 함수의 입력으로 사용합니다.\n",
    "\t2. 함수 값 계산:\n",
    "    \t• 생성된 난수들을 함수  g 에 대입하여 함수 값을 계산합니다.\n",
    "\t3. 기대값 계산:\n",
    "    \t• 계산된 함수 값들의 평균을 구하여 기대값  E(g) 를 추정합니다.\n",
    "## 2.3.1 기댓값 (2024.03.12)\n",
    "\n",
    "\n",
    "주어진 함수 : $ g(x) = 3x^2 $\n",
    "확률 밀도 함수 : $f(x) = \\frac{1}{2} $\n",
    "\n",
    "기대값 : $\n",
    "E[g(x)] = \\int_0^2 3x^2 \\cdot \\frac{1}{2} \\, dx = \\frac{3}{2} \\cdot \\frac{1}{3} \\left[ x^3 \\right]_0^2 = 4\n",
    "$\n",
    "\n",
    "기대값 근사 :\n",
    "$\n",
    "E[g(x)] \\approx \\frac{1}{N} \\sum_{i=1}^N g(x_i)\n",
    "$"
   ]
  },
  {
   "cell_type": "code",
   "execution_count": 2,
   "id": "ea9f809d-ec44-4c8f-a1bc-abcb01d43a21",
   "metadata": {},
   "outputs": [],
   "source": [
    "import random"
   ]
  },
  {
   "cell_type": "code",
   "execution_count": 3,
   "id": "d49c12b1-4590-4861-bca5-6595bebaedd7",
   "metadata": {},
   "outputs": [],
   "source": [
    "def g(x) :\n",
    "    return 3 * (x ** 2)"
   ]
  },
  {
   "cell_type": "code",
   "execution_count": 4,
   "id": "27f3e472-80b5-4625-9793-c1bbae14d60a",
   "metadata": {},
   "outputs": [
    {
     "name": "stdout",
     "output_type": "stream",
     "text": [
      "E(g) 3.99852106314432\n"
     ]
    }
   ],
   "source": [
    "N = 0\n",
    "sum = 0\n",
    "for i in range(10000000) :\n",
    "    num = 2 * random.random()\n",
    "    sum += g(num)\n",
    "    N += 1\n",
    "Eg = 1 / N * sum\n",
    "print('E(g)',Eg)"
   ]
  },
  {
   "cell_type": "code",
   "execution_count": 7,
   "id": "40a19c58-dcdb-49e7-a2dd-405a7eb5c943",
   "metadata": {},
   "outputs": [],
   "source": [
    "# for문 말고, \"NUMPY\"로 풀어보기\n",
    "import numpy as np"
   ]
  },
  {
   "cell_type": "code",
   "execution_count": 8,
   "id": "1c247b6e-b87a-4e07-aebc-f3ee90c2bb0e",
   "metadata": {},
   "outputs": [
    {
     "name": "stdout",
     "output_type": "stream",
     "text": [
      "E(g) 4.000310853075645\n"
     ]
    }
   ],
   "source": [
    "N = 10000000\n",
    "nums = 2 * np.random.random(N)\n",
    "sums = g(nums)\n",
    "Eg = np.mean(sums)\n",
    "\n",
    "print('E(g)', Eg)"
   ]
  }
 ],
 "metadata": {
  "kernelspec": {
   "display_name": "Python 3 (ipykernel)",
   "language": "python",
   "name": "python3"
  },
  "language_info": {
   "codemirror_mode": {
    "name": "ipython",
    "version": 3
   },
   "file_extension": ".py",
   "mimetype": "text/x-python",
   "name": "python",
   "nbconvert_exporter": "python",
   "pygments_lexer": "ipython3",
   "version": "3.11.0"
  }
 },
 "nbformat": 4,
 "nbformat_minor": 5
}
