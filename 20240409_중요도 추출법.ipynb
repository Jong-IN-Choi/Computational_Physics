{
 "cells": [
  {
   "cell_type": "markdown",
   "id": "829b763e-0c57-41d0-aba7-7d7d793f996f",
   "metadata": {},
   "source": [
    "# 기각법\n",
    "확률 밀도 함수를 따르는 난수 생성 방법 중 하나로, 특정 확률 분포를 따르는 난수를 생성하는 데 유용하다.\n",
    "\n",
    "## 원리\n",
    "\t1. 목표 분포 설정:\n",
    "        - 생성하려는 난수가 따를 목표 확률 분포를 정의한다.\n",
    "\t2. 범위 설정:\n",
    "        - 목표 확률 분포에서 생성하려는 값의 범위를 설정한다.\n",
    "\t3. 귀무 분포에서 난수 생성: \n",
    "        - 설정한 범위 내에서 균일 분포나 다른 특정한 분포(귀무 분포)에서 난수를 생성한다.\n",
    "\t4. 기각-수락 조건 검사:\n",
    "        - 생성된 난수가 목표 확률 분포를 따르는지 확인하기 위해 기각-수락 조건을 적용한다. \n",
    "\t5. 난수 생성 및 반환 :\n",
    "        - 기각-수락 조건에 따라 난수를 생성하고, 목표 확률 분포를 따르는 난수를 반환한다.\n",
    "\n",
    "\n",
    "- 목표 함수 $g(x) $: 주어진 함수로, 몬테카를로 적분 등 다양한 수치적 계산에서 활용됩니다.\n",
    "- 제안 분포 $ q(x) $: 목표 분포에서 샘플링하기 위한 제안 분포로, 중요도 샘플링에서 가중치 계산에 사용됩니다.\n",
    "- 목표 분포 $ p(x) $: 목표가 되는 확률 분포로, 주어진 범위 내에서의 확률을 정의합니다."
   ]
  },
  {
   "cell_type": "code",
   "execution_count": 3,
   "id": "c93c7929-f580-406c-9c72-dd0ad46b1649",
   "metadata": {},
   "outputs": [],
   "source": [
    "import numpy as np\n",
    "import random as rd"
   ]
  },
  {
   "cell_type": "markdown",
   "id": "0a27460e-45fe-41d7-84fb-76840b0b1bf8",
   "metadata": {},
   "source": [
    "# 책 예제 5.3.1\n",
    "\n",
    "함수 정의 : $ g(x) = \\exp \\left( -0.5 x^2 \\right) $\n",
    "\n",
    "제안 분포 : $ q(x) = \\frac{\\exp(-x)}{1 - \\exp(-10)} $\n",
    "\n",
    "목표 분포 : $ p(x) = \\begin{cases}\n",
    "\\frac{1}{10}, & \\text{if } 1 < x < 10 \\\\\n",
    "0, & \\text{otherwise}\n",
    "\\end{cases} $\n",
    "- $ x $가 구간 $ (1, 10) $에 있을 때 확률이 $ \\frac{1}{10} $이며, 그 외의 구간에서는 확률이 0입니다."
   ]
  },
  {
   "cell_type": "code",
   "execution_count": 9,
   "id": "03f069c5-1ac7-4189-b0a3-895592d87fd2",
   "metadata": {},
   "outputs": [],
   "source": [
    "def g(x) :\n",
    "    return np.exp(-0.5 * (x **2) )\n",
    "def q(x) : \n",
    "    return np.exp(-x) / (1 - np.exp(-10))\n",
    "def p(x) :\n",
    "    if 1 < x and x < 10 :\n",
    "        return 1/10\n",
    "    else :\n",
    "        return 0"
   ]
  },
  {
   "cell_type": "code",
   "execution_count": 10,
   "id": "757cb166-cf13-40cf-a938-7cb5be977da3",
   "metadata": {},
   "outputs": [
    {
     "data": {
      "text/plain": [
       "0.12632901219754258"
      ]
     },
     "execution_count": 10,
     "metadata": {},
     "output_type": "execute_result"
    }
   ],
   "source": [
    "# 단순 몬테카를로 적분\n",
    "\n",
    "# N = 0\n",
    "# sum = 0\n",
    "# for i in range(100000) :\n",
    "#     x_i = rd.uniform(0,10)\n",
    "#     sum += g(x_i)\n",
    "#     N += 1\n",
    "# sum / N\n",
    "\n",
    "# Numpy\n",
    "N = 10000\n",
    "x_i = np.random.uniform(0,10, N)\n",
    "sum = np.sum(g(x_i))\n",
    "sum / N"
   ]
  },
  {
   "cell_type": "code",
   "execution_count": 12,
   "id": "03192405-b63f-485b-b7de-d46c86dfaf00",
   "metadata": {},
   "outputs": [
    {
     "data": {
      "text/plain": [
       "0.12538214484558913"
      ]
     },
     "execution_count": 12,
     "metadata": {},
     "output_type": "execute_result"
    }
   ],
   "source": [
    "# 중요도 추출법을 통한 몬테카를로\n",
    "\n",
    "# N = 0\n",
    "# sum = 0\n",
    "# for i in range(100000) :\n",
    "#     u_i = rd.uniform(0,1)\n",
    "#     x_i = - np.log(1 - ((1-np.exp(-10)) * u_i ))\n",
    "#     w_x = (1/10) / ( np.exp(-x_i) / 1-np.exp(-10))\n",
    "#     sum += g(x_i) * w_x\n",
    "#     N += 1\n",
    "# sum / N\n",
    "\n",
    "N = 100000\n",
    "u_i = np.random.uniform(0, 1, N)\n",
    "x_i = -np.log(1 - ((1 - np.exp(-10)) * u_i))\n",
    "w_x = (1 / 10) / (np.exp(-x_i) / (1 - np.exp(-10)))\n",
    "g_x = g(x_i)\n",
    "np.sum(g_x * w_x) / N"
   ]
  },
  {
   "cell_type": "markdown",
   "id": "247cff88-cec5-4e7c-81e0-ddc360231aa1",
   "metadata": {},
   "source": [
    "# 책 예제 5.3.2\n",
    "\n",
    "함수 정의 : $ g(x) = e^{-0.5 x^2} $\n",
    "\n",
    "제안 분포 : $q(x) = \\frac{1}{\\sqrt{2 \\pi}} \\exp \\left( -\\frac{(x-3)^2}{2} \\right)$\n",
    "- 평균이 3이고 표준편차가 1인 정규 분포를 나타냅니다.\n",
    "\n",
    "목표 분포 : $ p(x) = \\begin{cases}\n",
    "\\frac{1}{\\sqrt{2 \\pi}} \\exp \\left( -\\frac{x^2}{2} \\right), & \\text{if } 1 < x < 10 \\\\\n",
    "0, & \\text{otherwise}\n",
    "\\end{cases} $\n",
    "- 이 분포는 구간 $ (1, 10) $에서의 정규 분포를 나타내며, 이외의 구간에서는 확률이 0입니다.\n"
   ]
  },
  {
   "cell_type": "code",
   "execution_count": 15,
   "id": "0b2cfea5-47a0-4d59-ab3e-40dd60f4b703",
   "metadata": {},
   "outputs": [],
   "source": [
    "def p(x) :\n",
    "    return 1 / np.sqrt(2 * np.pi) * np.exp(- x**2 / 2)\n",
    "\n",
    "def q(x) :\n",
    "    return 1 / np.sqrt(2 * np.pi) * np.exp(- (x-3)**2 / 2)"
   ]
  },
  {
   "cell_type": "code",
   "execution_count": 16,
   "id": "06b8b42d-35ab-4329-b87f-714f60125189",
   "metadata": {},
   "outputs": [
    {
     "data": {
      "text/plain": [
       "0.0015"
      ]
     },
     "execution_count": 16,
     "metadata": {},
     "output_type": "execute_result"
    }
   ],
   "source": [
    "# 단순 몬테카를로 적분\n",
    "\n",
    "N = 10000\n",
    "x = np.random.normal(0, 1, N)\n",
    "g_x = np.where(x > 3, 1, 0)\n",
    "np.sum(g_x) / N"
   ]
  },
  {
   "cell_type": "code",
   "execution_count": 17,
   "id": "a8ae6408-bf91-4dc0-91f8-11dde115c585",
   "metadata": {},
   "outputs": [
    {
     "data": {
      "text/plain": [
       "0.0013578236248928172"
      ]
     },
     "execution_count": 17,
     "metadata": {},
     "output_type": "execute_result"
    }
   ],
   "source": [
    "# 중요도 추출법을 통한 몬테카를로\n",
    "\n",
    "N = 10000\n",
    "x = np.random.normal(3, 1, N)\n",
    "g_x = np.where(x > 3, 1, 0)\n",
    "w_x = np.array([p(x) / q(x)])\n",
    "np.sum(g_x * w_x) / N"
   ]
  }
 ],
 "metadata": {
  "kernelspec": {
   "display_name": "Python 3 (ipykernel)",
   "language": "python",
   "name": "python3"
  },
  "language_info": {
   "codemirror_mode": {
    "name": "ipython",
    "version": 3
   },
   "file_extension": ".py",
   "mimetype": "text/x-python",
   "name": "python",
   "nbconvert_exporter": "python",
   "pygments_lexer": "ipython3",
   "version": "3.11.0"
  }
 },
 "nbformat": 4,
 "nbformat_minor": 5
}
