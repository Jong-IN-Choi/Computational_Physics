{
 "cells": [
  {
   "cell_type": "markdown",
   "id": "d752fed4-3416-4c0c-b867-04b21a8513e9",
   "metadata": {},
   "source": [
    "# 2차원 스핀계의 에너지\n",
    "\n",
    "$ L \\times L $ 인 2차원 사각 격자에 놓인 스핀계의 에너지 계산 :\n",
    "$$ E = - \\sum_{<ij>} s_i s_j $$  (스핀값은 무작위로 $ \\pm1$  중에서 선택)"
   ]
  },
  {
   "cell_type": "code",
   "execution_count": 1,
   "id": "e26c1ad1-860a-4b40-93e0-fa82e9cb5ac0",
   "metadata": {},
   "outputs": [],
   "source": [
    "import numpy as np\n",
    "import random as rd"
   ]
  },
  {
   "cell_type": "code",
   "execution_count": 10,
   "id": "385c3df2-6e3c-4746-b73b-7a4dafbcca0e",
   "metadata": {},
   "outputs": [
    {
     "data": {
      "text/plain": [
       "array([[ 1, -1, -1, -1,  1],\n",
       "       [ 1, -1, -1, -1, -1],\n",
       "       [-1, -1,  1,  1, -1],\n",
       "       [ 1, -1,  1, -1, -1],\n",
       "       [ 1, -1,  1, -1,  1]])"
      ]
     },
     "execution_count": 10,
     "metadata": {},
     "output_type": "execute_result"
    }
   ],
   "source": [
    "L = 5\n",
    "A = np.random.randint(0,2 , (L, L)) * 2 - 1\n",
    "\n",
    "# a = np.zeros([5,5])\n",
    "A[0][0] = +1\n",
    "A"
   ]
  },
  {
   "cell_type": "code",
   "execution_count": 14,
   "id": "6d1d4c77-9c73-4744-8d80-b1e6848f8c1b",
   "metadata": {},
   "outputs": [],
   "source": [
    "#주기적 경계 조건\n",
    "def neighbor(L,N) : #L : 행의 갯수, N : number\n",
    "    neighbor_number = []\n",
    "    neighbor_point = []\n",
    "\n",
    "    x = N % L\n",
    "    y = N // L\n",
    "\n",
    "    if x == 0 :\n",
    "        temp_x = x + L - 1\n",
    "        temp_y = y\n",
    "        neighbor_point.append([temp_x, temp_y])\n",
    "    else :\n",
    "        neighbor_point.append([x-1, y])\n",
    "\n",
    "    if x == L-1 :\n",
    "        temp_x = x - L + 1\n",
    "        temp_y = y\n",
    "        neighbor_point.append([temp_x, temp_y])\n",
    "    else :\n",
    "        neighbor_point.append([x+1, y])\n",
    "\n",
    "    if y == 0 :\n",
    "        temp_x = x\n",
    "        temp_y = (L-1)\n",
    "        neighbor_point.append([temp_x, temp_y])\n",
    "    else :\n",
    "        neighbor_point.append([x, y-1])\n",
    "\n",
    "    if y == L-1 :\n",
    "        temp_x = x\n",
    "        temp_y = 0\n",
    "        neighbor_point.append([temp_x, temp_y])\n",
    "    else :\n",
    "        neighbor_point.append([x, y+1])\n",
    "\n",
    "\n",
    "    for point in neighbor_point:\n",
    "        x, y = point\n",
    "        neighbor_number.append(y * L + x)\n",
    "\n",
    "    return neighbor_point"
   ]
  },
  {
   "cell_type": "code",
   "execution_count": 12,
   "id": "7d66aa76-7da2-4081-98a7-587edd51bf7f",
   "metadata": {
    "scrolled": true
   },
   "outputs": [
    {
     "name": "stdout",
     "output_type": "stream",
     "text": [
      "-6.0\n"
     ]
    }
   ],
   "source": [
    "E = 0\n",
    "for i in range(L ** 2) :\n",
    "    target_x = i % L\n",
    "    target_y = i // L\n",
    "\n",
    "    for i in neighbor(L, i) :\n",
    "        if A[target_x][target_y] == A[i[0]][i[1]] :\n",
    "            E -= 1\n",
    "        else :\n",
    "            E += 1\n",
    "E = E/2 # double count 문제 해결하기 위해 \"/2\"함\n",
    "print(E) "
   ]
  },
  {
   "cell_type": "markdown",
   "id": "49281251-3d2c-4872-ac70-2f6007d4dd29",
   "metadata": {},
   "source": [
    "# 2X2 행렬을 통해 확인"
   ]
  },
  {
   "cell_type": "code",
   "execution_count": 13,
   "id": "dae482a0-2e8c-4369-9340-4720861ed585",
   "metadata": {},
   "outputs": [
    {
     "name": "stdout",
     "output_type": "stream",
     "text": [
      "8.0\n"
     ]
    }
   ],
   "source": [
    "L = 2\n",
    "A = np.random.randint(0, 2, (L, L)) * 2 - 1\n",
    "\n",
    "# a = np.zeros([5,5])\n",
    "A[0][0] = +1\n",
    "A[0][1] = -1\n",
    "A[1][0] = -1\n",
    "A[1][1] = +1\n",
    "\n",
    "E = 0\n",
    "for i in range(L ** 2) :\n",
    "    target_x = i % L\n",
    "    target_y = i // L\n",
    "\n",
    "    for i in neighbor(L, i) :\n",
    "        if A[target_x][target_y] == A[i[0]][i[1]] :\n",
    "            E -= 1\n",
    "        else :\n",
    "            E += 1\n",
    "E = E/2\n",
    "print(E) # double count 문제 해결하기 위해 \"/2\"함"
   ]
  }
 ],
 "metadata": {
  "kernelspec": {
   "display_name": "Python 3 (ipykernel)",
   "language": "python",
   "name": "python3"
  },
  "language_info": {
   "codemirror_mode": {
    "name": "ipython",
    "version": 3
   },
   "file_extension": ".py",
   "mimetype": "text/x-python",
   "name": "python",
   "nbconvert_exporter": "python",
   "pygments_lexer": "ipython3",
   "version": "3.11.0"
  }
 },
 "nbformat": 4,
 "nbformat_minor": 5
}
