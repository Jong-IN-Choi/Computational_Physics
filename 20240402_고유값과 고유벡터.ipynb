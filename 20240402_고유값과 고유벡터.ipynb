{
 "cells": [
  {
   "cell_type": "code",
   "execution_count": 8,
   "id": "bd595265-d4d4-40bb-9c25-30962ac65fc2",
   "metadata": {},
   "outputs": [],
   "source": [
    "import numpy as np"
   ]
  },
  {
   "cell_type": "code",
   "execution_count": 25,
   "id": "4cb05575-d014-4732-a92e-960c451f99a5",
   "metadata": {},
   "outputs": [],
   "source": [
    "# MC5, 99pg\n",
    "P = np.array([ [0.7 ,0.3, 0, 0.],\n",
    "               [0.5, 0.5, 0, 0],\n",
    "               [0, 0, 0.5, 0.5 ], \n",
    "               [0, 0, 0.6, 0.4] ])"
   ]
  },
  {
   "cell_type": "code",
   "execution_count": 26,
   "id": "37dd7302-efb2-43ce-bc27-47ecb02795ac",
   "metadata": {},
   "outputs": [
    {
     "name": "stdout",
     "output_type": "stream",
     "text": [
      "[ 1.   0.2  1.  -0.1]\n",
      "[[ 0.85749293 -0.70710678  0.          0.        ]\n",
      " [ 0.51449576  0.70710678  0.          0.        ]\n",
      " [ 0.          0.          0.76822128 -0.70710678]\n",
      " [ 0.          0.          0.6401844   0.70710678]]\n"
     ]
    }
   ],
   "source": [
    "value, vector = np.linalg.eig(np.transpose(P)) # 첫어레이는 고유값, 뒤에는 v1, v2,v3이다\n",
    "print(value)\n",
    "print(vector) # 아이덴벡터는 가로로 나옴"
   ]
  },
  {
   "cell_type": "code",
   "execution_count": 27,
   "id": "12315b2b-4cad-4295-b894-378f1090abf1",
   "metadata": {},
   "outputs": [],
   "source": [
    "# MC12, 100pg\n",
    "P = np.array([ [0.2 ,0.2, 0.6, 0.],\n",
    "               [0, 0.5, 0, 0.5],\n",
    "               [0, 0, 1, 0], \n",
    "               [0, 0, 0, 1] ])"
   ]
  },
  {
   "cell_type": "code",
   "execution_count": 28,
   "id": "d71fd344-4098-4026-beda-dd805456f5b0",
   "metadata": {},
   "outputs": [
    {
     "name": "stdout",
     "output_type": "stream",
     "text": [
      "[1.  0.5 1.  0.2]\n",
      "[[ 0.          0.          0.          0.67719918]\n",
      " [ 0.          0.70710678  0.         -0.45146612]\n",
      " [ 0.          0.          1.         -0.50789938]\n",
      " [ 1.         -0.70710678  0.          0.28216632]]\n"
     ]
    }
   ],
   "source": [
    "value, vector = np.linalg.eig(np.transpose(P)) # 첫어레이는 고유값, 뒤에는 v1, v2,v3이다\n",
    "print(value)\n",
    "print(vector) # 아이덴벡터는 가로로 나옴"
   ]
  },
  {
   "cell_type": "code",
   "execution_count": 45,
   "id": "6e116c96-bea4-4a54-a9c9-c280ef59b824",
   "metadata": {},
   "outputs": [],
   "source": [
    "# MC14, 103pg\n",
    "P = np.array([ [0, 0.5, 0.5],\n",
    "               [0.5, 0, 0.5],\n",
    "               [0.5, 0.5, 0] ])"
   ]
  },
  {
   "cell_type": "code",
   "execution_count": 46,
   "id": "0faf76db-3597-4abe-9945-738266bfe04f",
   "metadata": {},
   "outputs": [
    {
     "name": "stdout",
     "output_type": "stream",
     "text": [
      "[-0.5  1.  -0.5]\n",
      "[[-0.81649658  0.57735027  0.19219669]\n",
      " [ 0.40824829  0.57735027 -0.7833358 ]\n",
      " [ 0.40824829  0.57735027  0.59113912]]\n"
     ]
    }
   ],
   "source": [
    "value, vector = np.linalg.eig(np.transpose(P)) # 첫어레이는 고유값, 뒤에는 v1, v2,v3이다\n",
    "print(value)\n",
    "print(vector) # 아이덴벡터는 가로로 나옴\n",
    "\n",
    "#분포니까 정규화해서 1/3, 1/3, 1/3"
   ]
  },
  {
   "cell_type": "code",
   "execution_count": 47,
   "id": "76905735-c9d4-4db5-b73c-38c2bcdc07ad",
   "metadata": {},
   "outputs": [],
   "source": [
    "# MC15, 104pg\n",
    "P = np.array([ [0, 1/3, 2/3],\n",
    "               [2/3, 0, 1/3],\n",
    "               [1/3, 2/3, 0] ])"
   ]
  },
  {
   "cell_type": "code",
   "execution_count": 48,
   "id": "f7daf1db-7d8f-4079-807f-b760607cd188",
   "metadata": {},
   "outputs": [
    {
     "name": "stdout",
     "output_type": "stream",
     "text": [
      "[ 1. +0.j         -0.5+0.28867513j -0.5-0.28867513j]\n",
      "[[ 0.57735027+0.j  -0.28867513-0.5j -0.28867513+0.5j]\n",
      " [ 0.57735027+0.j   0.57735027+0.j   0.57735027-0.j ]\n",
      " [ 0.57735027+0.j  -0.28867513+0.5j -0.28867513-0.5j]]\n"
     ]
    }
   ],
   "source": [
    "value, vector = np.linalg.eig(np.transpose(P)) # 첫어레이는 고유값, 뒤에는 v1, v2,v3이다\n",
    "print(value)\n",
    "print(vector) # 아이덴벡터는 가로로 나옴\n",
    "\n",
    "#분포니까 정규화해서 1/3, 1/3, 1/3"
   ]
  },
  {
   "cell_type": "code",
   "execution_count": null,
   "id": "80f050ea-5654-4e46-94b2-421720669be8",
   "metadata": {},
   "outputs": [],
   "source": []
  }
 ],
 "metadata": {
  "kernelspec": {
   "display_name": "Python 3 (ipykernel)",
   "language": "python",
   "name": "python3"
  },
  "language_info": {
   "codemirror_mode": {
    "name": "ipython",
    "version": 3
   },
   "file_extension": ".py",
   "mimetype": "text/x-python",
   "name": "python",
   "nbconvert_exporter": "python",
   "pygments_lexer": "ipython3",
   "version": "3.11.0"
  }
 },
 "nbformat": 4,
 "nbformat_minor": 5
}
