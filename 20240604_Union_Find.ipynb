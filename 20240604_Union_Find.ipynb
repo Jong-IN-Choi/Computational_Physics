{
 "cells": [
  {
   "cell_type": "markdown",
   "metadata": {},
   "source": [
    "# Union-Find\n",
    "\n",
    "Union-Find 자료구조는 여러 집합이 존재할 때, 각 집합의 원소들을 효율적으로 관리하고, 두 집합을 합치거나 어떤 원소가 어떤 집합에 속해 있는지를 판별하는 데 사용된다.\n",
    "\n",
    "    \n",
    "## 함수:\n",
    "\n",
    "- find(i):\n",
    "\n",
    "    - 특정 원소가 속한 집합(또는 그 집합의 대표 원소)을 찾는 연산이다. 주로 해당 원소의 부모를 따라가면서, 부모가 자기 자신인 원소를 찾을 때까지 반복한다. 경로 압축을 사용하면 Find 연산의 시간 복잡도를 효율적으로 관리할 수 있다.\n",
    "       \n",
    "    - 이 함수는 재귀적으로 요소 `i`가 속한 집합의 루트 대표를 찾는다. `ptr[i]`가 음수일 경우 (`ptr[i] < 0`), `i` 자체가 루트임을 나타내며, `i`를 반환한다. 그게 아니면 `i`의 루트를 재귀적으로 찾아 업데이트한 후 해당 루트를 반환한다.\n",
    "\n",
    "- union(r1, r2, big):\n",
    "\n",
    "    - 두 집합을 하나로 합치는 연산이다. 두 집합의 대표 원소를 찾아서 하나의 집합으로 만든다. 트리의 높이를 최소화하면서 Union 연산을 효율적으로 수행할 수 있습니다.\n",
    "\n",
    "   - 이 함수는 두 개의 루트 `r1`과 `r2`를 가진 집합을 합병한다. `ptr` 배열에서 작은 집합을 큰 집합에 병합하여 효율성을 유지한다. `ptr`를 적절히 업데이트하고 가장 큰 집합 크기를 유지하는데, 이 값은 `big_list`에 `big / N`의 정규화된 값으로 추가된다. 함수는 업데이트된 루트 `r1`, `r2` 및 현재 `big` 값을 반환한다."
   ]
  },
  {
   "cell_type": "code",
   "execution_count": 7,
   "metadata": {
    "id": "jxM69TNU-oSn"
   },
   "outputs": [],
   "source": [
    "import numpy as np\n",
    "import matplotlib.pyplot as plt"
   ]
  },
  {
   "cell_type": "code",
   "execution_count": 8,
   "metadata": {
    "id": "ZUKyztej88Nq"
   },
   "outputs": [],
   "source": [
    "def find(i):\n",
    "    if ptr[i]<0:\n",
    "        return i\n",
    "    else:\n",
    "        ptr[i] = find(ptr[i])\n",
    "        return ptr[i]"
   ]
  },
  {
   "cell_type": "code",
   "execution_count": 9,
   "metadata": {
    "id": "7GZGKjjz-be8"
   },
   "outputs": [],
   "source": [
    "def union(r1,r2,big):\n",
    "    if r2 != r1:\n",
    "        if(ptr[r1]>ptr[r2]):\n",
    "            ptr[r2] += ptr[r1]\n",
    "            ptr[r1] = r2\n",
    "            r1 = r2\n",
    "        else:\n",
    "            ptr[r1] += ptr[r2]\n",
    "            ptr[r2] = r1\n",
    "        if -ptr[r1]>big:\n",
    "            big = -ptr[r1]\n",
    "        big_list.append(big / N )\n",
    "    return r1, r2, big"
   ]
  },
  {
   "cell_type": "code",
   "execution_count": 10,
   "metadata": {
    "id": "DMfAGv5Y-l8E"
   },
   "outputs": [],
   "source": [
    "L = 256\n",
    "N = L ** 2\n",
    "Kmax = 4\n",
    "K = np.empty(N, int)\n",
    "nn = np.empty([N, Kmax], int)\n",
    "for i in range(N):\n",
    "    nn[i][0] = i-1+L*(i%L==0)\n",
    "    nn[i][1] = i+1-L*(i%L==L-1)\n",
    "    nn[i][2] = i-L+N*(i//L==0)\n",
    "    nn[i][3] = i+L-N*(i//L==L-1)\n",
    "ptr = np.empty(N, int)\n",
    "\n",
    "\n",
    "order = np.empty(N,int)\n",
    "for i in range(N):\n",
    "    order[i] = i\n",
    "np.random.shuffle(order)\n",
    "\n",
    "\n",
    "big = 0\n",
    "big_list = [0] # 처음에는 최대 클러스터 크기 그리기\n",
    "x_list = []\n",
    "for i in range(N):\n",
    "    ptr[i]=-N-1\n",
    "for i in range(N):\n",
    "    r1,s1 = order[i],order[i]\n",
    "    # print(r1, s1) r1: root라고 취급, s1 = 주변에 있는거 확인\n",
    "    ptr[s1]=-1\n",
    "    for j in range(Kmax):\n",
    "        s2=nn[s1,j]\n",
    "        if ptr[s2]!=-N-1:\n",
    "            r2=find(s2)\n",
    "            r1,r2,big = union(r1,r2,big)\n",
    "    x_list.append(i / N)"
   ]
  },
  {
   "cell_type": "code",
   "execution_count": 11,
   "metadata": {
    "colab": {
     "base_uri": "https://localhost:8080/",
     "height": 447
    },
    "id": "gb0MIOuZA6DB",
    "outputId": "7dbaffa2-c53a-4ef6-af9b-53541714355b"
   },
   "outputs": [
    {
     "data": {
      "text/plain": [
       "[<matplotlib.lines.Line2D at 0x12e492910>]"
      ]
     },
     "execution_count": 11,
     "metadata": {},
     "output_type": "execute_result"
    },
    {
     "data": {
      "image/png": "[encoded data removed]",
      "text/plain": [
       "<Figure size 640x480 with 1 Axes>"
      ]
     },
     "metadata": {},
     "output_type": "display_data"
    }
   ],
   "source": [
    "plt.plot(x_list, big_list)"
   ]
  },
  {
   "cell_type": "code",
   "execution_count": 6,
   "metadata": {
    "id": "8IzAiETEHNVp"
   },
   "outputs": [],
   "source": []
  }
 ],
 "metadata": {
  "colab": {
   "provenance": []
  },
  "kernelspec": {
   "display_name": "Python 3 (ipykernel)",
   "language": "python",
   "name": "python3"
  },
  "language_info": {
   "codemirror_mode": {
    "name": "ipython",
    "version": 3
   },
   "file_extension": ".py",
   "mimetype": "text/x-python",
   "name": "python",
   "nbconvert_exporter": "python",
   "pygments_lexer": "ipython3",
   "version": "3.11.0"
  }
 },
 "nbformat": 4,
 "nbformat_minor": 4
}
